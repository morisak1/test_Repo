{
 "cells": [
  {
   "cell_type": "markdown",
   "id": "8fdb2d89",
   "metadata": {},
   "source": [
    "<center>\n",
    "    <img src=\"https://cf-courses-data.s3.us.cloud-object-storage.appdomain.cloud/IBMDeveloperSkillsNetwork-DS0105EN-SkillsNetwork/labs/Module2/images/SN_web_lightmode.png\" width=\"300\" alt=\"cognitiveclass.ai logo\">\n",
    "</center>\n"
   ]
  },
  {
   "cell_type": "markdown",
   "id": "994e8e6b",
   "metadata": {},
   "source": [
    "# Hands-on Lab: Create your Jupyter Notebook"
   ]
  },
  {
   "cell_type": "markdown",
   "id": "79137478",
   "metadata": {},
   "source": [
    "#### Add your code below following the instructions given in the course"
   ]
  },
  {
   "cell_type": "markdown",
   "id": "41b15e30-5553-4123-84dd-26e6fa0c668a",
   "metadata": {},
   "source": [
    "# Data Science Tools and Ecosystem\n"
   ]
  },
  {
   "cell_type": "markdown",
   "id": "dad1fdce-8757-48bf-ba8d-d0c50bcc1a02",
   "metadata": {},
   "source": [
    "#### Add your code below following the instructions given in the course"
   ]
  },
  {
   "cell_type": "markdown",
   "id": "0515efa4-7ee6-4d40-8fb4-88166c068839",
   "metadata": {},
   "source": [
    "Some of the popular languages that Data Scientists use are\n",
    "- Ordered List :\n",
    "1. Python \n",
    "2. SQL\n",
    "3. R\n",
    "4. Julia\n",
    "5. Scala\n"
   ]
  },
  {
   "cell_type": "markdown",
   "id": "d74d9567-f9b7-4d28-9985-b0ffdde72abd",
   "metadata": {},
   "source": [
    "Some of the commonly used libraries used by Data Scientists include\n",
    "- Ordered list :\n",
    "1. Python Pandas\n",
    "2. Python numpy\n",
    "3. Python matplotlib\n",
    "4. R ggplot\n",
    "5. R caret\n",
    "6. R plotly"
   ]
  },
  {
   "cell_type": "markdown",
   "id": "183d538d-7343-4ad4-9001-83102b014d9f",
   "metadata": {},
   "source": [
    "| Data Science Tools       |\n",
    "|--------------------------|\n",
    "| JupyterLab               |\n",
    "| RStudio                  |\n",
    "| Spyder                   |\n"
   ]
  },
  {
   "cell_type": "markdown",
   "id": "4cf795b9-f285-43de-90d8-0e04346c5eeb",
   "metadata": {},
   "source": [
    "### Below are a few examples of evaluating arithmetic expressions in Python.\n"
   ]
  },
  {
   "cell_type": "code",
   "execution_count": null,
   "id": "9c494e2b-ac49-4a13-b1ad-327820b1e1f5",
   "metadata": {},
   "outputs": [
    {
     "ename": "",
     "evalue": "",
     "output_type": "error",
     "traceback": [
      "\u001b[1;31mRunning cells with 'Python 3.13.5' requires the ipykernel package.\n",
      "\u001b[1;31m<a href='command:jupyter.createPythonEnvAndSelectController'>Create a Python Environment</a> with the required packages.\n",
      "\u001b[1;31mOr install 'ipykernel' using the command: '\"c:/Program Files/Python313/python3.13t.exe\" -m pip install ipykernel -U --user --force-reinstall'"
     ]
    }
   ],
   "source": [
    "# This is a simple arithmetic expression to multiply then add integers\n",
    "(3 *4) +5\n"
   ]
  },
  {
   "cell_type": "code",
   "execution_count": null,
   "id": "9f0f8297-2b8c-4c6b-8330-798b967cea80",
   "metadata": {},
   "outputs": [],
   "source": [
    "# This will convert 200 minutes to hours by dividing by 60\n",
    "result = round(200/60, 2)\n",
    "result"
   ]
  },
  {
   "cell_type": "markdown",
   "id": "e1e1b8da-da39-404a-bd87-22a1e156c3f5",
   "metadata": {},
   "source": [
    "**Objectives:**\n",
    "- List popular languages for Data Science\n",
    "- List commonly used libraries\n",
    "- Identify open-source development tools\n",
    "- Evaluate basic arithmetic expressions in Python\n",
    "- Convert units using Python\n"
   ]
  },
  {
   "cell_type": "markdown",
   "id": "be9d70cb-a3a6-4a9f-9311-d6fc93095457",
   "metadata": {},
   "source": [
    "## Author\n",
    "Mohammed A. Hassan \n",
    "github (@ morisak1)\n"
   ]
  },
  {
   "cell_type": "code",
   "execution_count": null,
   "id": "c1dd3b29-f061-43a8-9bfd-28589243e6c2",
   "metadata": {},
   "outputs": [],
   "source": [
    "Copyright ©2024 IBM Corporation. All rights reserved."
   ]
  }
 ],
 "metadata": {
  "kernelspec": {
   "display_name": "Python 3 (ipykernel)",
   "language": "python",
   "name": "python3"
  },
  "language_info": {
   "codemirror_mode": {
    "name": "ipython",
    "version": 3
   },
   "file_extension": ".py",
   "mimetype": "text/x-python",
   "name": "python",
   "nbconvert_exporter": "python",
   "pygments_lexer": "ipython3",
   "version": "3.13.5"
  },
  "widgets": {
   "application/vnd.jupyter.widget-state+json": {
    "state": {},
    "version_major": 2,
    "version_minor": 0
   }
  }
 },
 "nbformat": 4,
 "nbformat_minor": 5
}
